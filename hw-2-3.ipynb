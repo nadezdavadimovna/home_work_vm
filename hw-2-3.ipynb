{
 "cells": [
  {
   "cell_type": "markdown",
   "metadata": {},
   "source": [
    "# 1. Локализация корней"
   ]
  },
  {
   "cell_type": "code",
   "execution_count": 2,
   "metadata": {},
   "outputs": [
    {
     "name": "stdout",
     "output_type": "stream",
     "text": [
      "Действительные корни: [-0.500000000000000, 0.200000000000000, 0.500000000000000]\n"
     ]
    }
   ],
   "source": [
    "import sympy as sp\n",
    "import numpy as np\n",
    "import matplotlib.pyplot as plt\n",
    "from sympy import symbols, solve\n",
    "\n",
    "x = symbols('x')\n",
    "f = 20*x**3 - 4*x**2 - 5*x + 1\n",
    "\n",
    "roots = solve(f, x)\n",
    "real_roots = [root.evalf() for root in roots if root.is_real]\n",
    "\n",
    "print(\"Действительные корни:\", real_roots)\n"
   ]
  },
  {
   "cell_type": "markdown",
   "metadata": {},
   "source": [
    "# 2. Порядок сходимости итерационного метода"
   ]
  },
  {
   "cell_type": "code",
   "execution_count": 3,
   "metadata": {},
   "outputs": [
    {
     "data": {
      "text/latex": [
       "$\\displaystyle x - \\frac{\\left(- a + x^{2}\\right) \\left(a^{2} - 4 a x^{2} + 11 x^{4}\\right)}{16 x^{5}}$"
      ],
      "text/plain": [
       "x - (-a + x**2)*(a**2 - 4*a*x**2 + 11*x**4)/(16*x**5)"
      ]
     },
     "metadata": {},
     "output_type": "display_data"
    }
   ],
   "source": [
    "x, a = sp.symbols('x a')\n",
    "F = x - (11*x**4 - 4 * x**2*a + a**2) / (16 * x**5) * (x**2 - a)\n",
    "display(F)"
   ]
  },
  {
   "cell_type": "code",
   "execution_count": 4,
   "metadata": {},
   "outputs": [
    {
     "data": {
      "text/latex": [
       "$\\displaystyle \\frac{5 \\left(- a^{3} + 3 a^{2} x^{2} - 3 a x^{4} + x^{6}\\right)}{16 x^{6}}$"
      ],
      "text/plain": [
       "5*(-a**3 + 3*a**2*x**2 - 3*a*x**4 + x**6)/(16*x**6)"
      ]
     },
     "metadata": {},
     "output_type": "display_data"
    }
   ],
   "source": [
    "F1 = sp.diff(F, x).simplify()\n",
    "display(F1)"
   ]
  },
  {
   "cell_type": "code",
   "execution_count": 5,
   "metadata": {},
   "outputs": [
    {
     "data": {
      "text/plain": [
       "3"
      ]
     },
     "execution_count": 5,
     "metadata": {},
     "output_type": "execute_result"
    }
   ],
   "source": [
    "#Now let's find p\n",
    "p = 0\n",
    "\n",
    "while (F1.subs(x, a**0.5).simplify() == 0):\n",
    "    p += 1\n",
    "    F1 = sp.diff(F1, x)\n",
    "p"
   ]
  },
  {
   "cell_type": "markdown",
   "metadata": {},
   "source": [
    "Таким образом наш итерационный процесс имеет 3ий порядок сходимости"
   ]
  },
  {
   "cell_type": "markdown",
   "metadata": {},
   "source": [
    "# 3. Метод Ньютона и Гаусса-Ньютона"
   ]
  },
  {
   "cell_type": "markdown",
   "metadata": {},
   "source": [
    "$$\\mathbf{H}_{ij} = \\frac{\\partial^2 F}{\\partial \\beta_i \\partial \\beta_j} = 2 \\sum_{k=1}^n \\left( \\frac{\\partial r_k}{\\partial \\beta_i} \\frac{\\partial r_k}{\\partial \\beta_j} + r_k \\frac{\\partial^2 r_k}{\\partial \\beta_i \\partial \\beta_j} \\right)$$\n",
    "\n",
    "$$2J^TJ =  2 \\sum_{k=1}^n \\frac{\\partial r_k}{\\partial \\beta_i} \\frac{\\partial r_k}{\\partial \\beta_j}$$\n",
    "\n",
    "$$2J^TJ \\ \\text{!=} \\ \\mathbf{H}_{ij}$$\n"
   ]
  },
  {
   "cell_type": "markdown",
   "metadata": {},
   "source": [
    "# 4. Зри в корень"
   ]
  },
  {
   "cell_type": "code",
   "execution_count": 6,
   "metadata": {},
   "outputs": [],
   "source": [
    "def dihotomia(f, a, b, eps=1e-8, max_iter = 1000):\n",
    "    c = (a + b) / 2\n",
    "    count = 0\n",
    "    while (abs(f(c)) > eps):\n",
    "        if (f(c) == 0):\n",
    "            return c\n",
    "        \n",
    "        if (f(c) * f(a) > 0):\n",
    "            a = c\n",
    "        else:\n",
    "            b = c\n",
    "        \n",
    "        c = (a + b) / 2\n",
    "        count += 1\n",
    "\n",
    "        if (count >= max_iter):\n",
    "            raise RuntimeError(\"The algorithm didn't converge\")\n",
    "    \n",
    "    return c\n",
    "\n",
    "def newton(f, fprime, a, b, eps=1e-8, max_iter=1000):\n",
    "    x = (a + b) / 2\n",
    "    count = 0\n",
    "    while(abs(f(x)) >= eps):\n",
    "        x -= f(x) / fprime(x)\n",
    "\n",
    "        if (count >= max_iter):\n",
    "            raise RuntimeError(\"The algorithm didn't converge\")\n",
    "\n",
    "    return x"
   ]
  },
  {
   "cell_type": "code",
   "execution_count": 17,
   "metadata": {},
   "outputs": [
    {
     "name": "stdout",
     "output_type": "stream",
     "text": [
      "Dihotomia method: 0.6411857437342405\n",
      "Newton method: 0.6411857445105155\n"
     ]
    },
    {
     "data": {
      "image/png": "[encoded data removed]",
      "text/plain": [
       "<Figure size 640x480 with 1 Axes>"
      ]
     },
     "metadata": {},
     "output_type": "display_data"
    }
   ],
   "source": [
    "def f(x):\n",
    "    return x * 2 ** x - 1\n",
    "\n",
    "def fprime(x):\n",
    "    return 2**x + x * 2**x * np.log(2)\n",
    "\n",
    "print(\"Dihotomia method:\", dihotomia(f, -100, 100))\n",
    "print(\"Newton method:\", newton(f, fprime, -100, 100))\n",
    "\n",
    "x0 = newton(f, fprime, -100, 100)\n",
    "\n",
    "x = np.linspace(-5, 1, 1000)\n",
    "plt.plot(x, f(x),color = 'blue')\n",
    "plt.plot(x, 0*x, color = 'violet')\n",
    "plt.scatter(x0, f(x0),color = 'pink')\n",
    "plt.grid()\n",
    "plt.show()\n"
   ]
  },
  {
   "cell_type": "code",
   "execution_count": 18,
   "metadata": {},
   "outputs": [
    {
     "name": "stdout",
     "output_type": "stream",
     "text": [
      "Dihotomia method: -0.3714177571237087\n",
      "Newton method: -0.3714177525587199\n",
      "Dihotomia method: 0.605267122387886\n",
      "Newton method: 0.6052671221098207\n",
      "Dihotomia method: 4.707937918137759\n",
      "Newton method: 4.707937918138119\n"
     ]
    },
    {
     "data": {
      "image/png": "[encoded data removed]",
      "text/plain": [
       "<Figure size 640x480 with 1 Axes>"
      ]
     },
     "metadata": {},
     "output_type": "display_data"
    }
   ],
   "source": [
    "def f(x):\n",
    "    return x ** 2 - np.exp(x) / 5\n",
    "\n",
    "def fprime(x):\n",
    "    return 2 * x  - np.exp(x) / 5\n",
    "\n",
    "print(\"Dihotomia method:\", dihotomia(f, -10, 0))\n",
    "print(\"Newton method:\", newton(f, fprime, -10, 0))\n",
    "\n",
    "print(\"Dihotomia method:\", dihotomia(f, 0, 4))\n",
    "print(\"Newton method:\", newton(f, fprime, 0, 4))\n",
    "\n",
    "print(\"Dihotomia method:\", dihotomia(f, 4, 10))\n",
    "print(\"Newton method:\", newton(f, fprime, 4, 10))\n",
    "\n",
    "x1, x2, x3  = newton(f, fprime, -10, 0), newton(f, fprime, 0, 4), newton(f, fprime, 4, 10)\n",
    "\n",
    "x = np.linspace(-3, 5, 1000)\n",
    "plt.plot(x, f(x),color = 'blue')\n",
    "plt.plot(x, 0*x, color = 'violet')\n",
    "plt.scatter([x1, x2, x3], [f(x1), f(x2), f(x3)], color='pink')\n",
    "plt.grid()\n",
    "plt.show()\n"
   ]
  },
  {
   "cell_type": "markdown",
   "metadata": {},
   "source": [
    "# 5. Зри в корень дважды"
   ]
  },
  {
   "cell_type": "code",
   "execution_count": 9,
   "metadata": {},
   "outputs": [],
   "source": [
    "def Newton_system(F, J, x, eps):\n",
    "    F_value = F(x)\n",
    "    F_norm = np.linalg.norm(F_value, ord=2) \n",
    "    iteration_counter = 0\n",
    "    while abs(F_norm) > eps and iteration_counter < 100:\n",
    "        delta = np.linalg.solve(J(x), -F_value)\n",
    "        x = x + delta\n",
    "        F_value = F(x)\n",
    "        F_norm = np.linalg.norm(F_value, ord=2)\n",
    "        iteration_counter += 1\n",
    "\n",
    "    if abs(F_norm) > eps:\n",
    "        iteration_counter = -1\n",
    "    return x, iteration_counter"
   ]
  },
  {
   "cell_type": "code",
   "execution_count": 10,
   "metadata": {},
   "outputs": [
    {
     "data": {
      "text/plain": [
       "(array([ 0.51004753, -0.20183405]), 12)"
      ]
     },
     "execution_count": 10,
     "metadata": {},
     "output_type": "execute_result"
    }
   ],
   "source": [
    "def f(x):\n",
    "    x1, x2 = x[0], x[1]\n",
    "    return np.array([np.sin(x1+1) - x2 - 1.2, 2 * x1 + np.cos(x2) - 2])\n",
    "\n",
    "def J(x):\n",
    "    x1, x2 = x[0], x[1]\n",
    "    return np.array([[np.cos(x1 + 1), -1], [2, -np.sin(x2)]])\n",
    "\n",
    "Newton_system(f, J, np.array([10, 100]), 1e-3)"
   ]
  },
  {
   "cell_type": "code",
   "execution_count": 11,
   "metadata": {},
   "outputs": [
    {
     "data": {
      "text/plain": [
       "(array([3.35595086, 1.20696878]), 2)"
      ]
     },
     "execution_count": 11,
     "metadata": {},
     "output_type": "execute_result"
    }
   ],
   "source": [
    "def f(x):\n",
    "    x1, x2 = x[0], x[1]\n",
    "    return np.array([np.cos(x1 - 1) + x2 - 0.5, x1 - np.cos(x2) - 3])\n",
    "\n",
    "def J(x):\n",
    "    x1, x2 = x[0], x[1]\n",
    "    return np.array([[-np.sin(x1 - 1), 1], [1, np.sin(x2)]])\n",
    "\n",
    "Newton_system(f, J, np.array([3, 1]), 1e-3)"
   ]
  },
  {
   "cell_type": "code",
   "execution_count": null,
   "metadata": {},
   "outputs": [],
   "source": []
  }
 ],
 "metadata": {
  "kernelspec": {
   "display_name": "base",
   "language": "python",
   "name": "python3"
  },
  "language_info": {
   "codemirror_mode": {
    "name": "ipython",
    "version": 3
   },
   "file_extension": ".py",
   "mimetype": "text/x-python",
   "name": "python",
   "nbconvert_exporter": "python",
   "pygments_lexer": "ipython3",
   "version": "3.9.12"
  }
 },
 "nbformat": 4,
 "nbformat_minor": 2
}
