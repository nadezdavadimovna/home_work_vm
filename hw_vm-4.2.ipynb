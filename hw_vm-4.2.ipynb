{
 "cells": [
  {
   "cell_type": "markdown",
   "metadata": {},
   "source": [
    "# № 1"
   ]
  },
  {
   "cell_type": "code",
   "execution_count": 1,
   "metadata": {},
   "outputs": [],
   "source": [
    "def gauss_2(a, b):\n",
    "    r\"\"\"Return nodes and weights for a two-point Gauss quadrature on [a, b].\n",
    "\n",
    "    Parameters\n",
    "    ----------\n",
    "    a, b : float\n",
    "       Boundaries of the integration interval\n",
    "\n",
    "    Returns\n",
    "    -------\n",
    "    x1, x2, w1, w2 : float\n",
    "       Nodes and weights of the quadrature.\n",
    "    \"\"\"\n",
    "    x1 = ((b+a)/2-(b-a)/(2*3**(1/2)))\n",
    "    x2 = ((b+a)/2+(b-a)/(2*3**(1/2)))\n",
    "    w1 = (b-a)/2\n",
    "    w2 = (b-a)/2\n",
    "    return x1, x2, w1, w2\n",
    "    raise NotImplementedError()"
   ]
  },
  {
   "cell_type": "code",
   "execution_count": 2,
   "metadata": {},
   "outputs": [],
   "source": [
    "from numpy.testing import assert_allclose\n",
    "\n",
    "x1, x2, w1, w2 = gauss_2(0, 1)\n",
    "\n",
    "def f(x, n):\n",
    "    return x**n\n",
    "\n",
    "for n in [0, 1, 2, 3]:\n",
    "    assert_allclose(w1*f(x1, n=n) + w2*f(x2, n=n),\n",
    "                    1./(n+1), atol=1e-14)"
   ]
  },
  {
   "cell_type": "markdown",
   "metadata": {},
   "source": [
    "# №2"
   ]
  },
  {
   "cell_type": "code",
   "execution_count": 3,
   "metadata": {},
   "outputs": [],
   "source": [
    "import numpy as np\n",
    "import matplotlib.pyplot as plt "
   ]
  },
  {
   "cell_type": "code",
   "execution_count": 4,
   "metadata": {},
   "outputs": [
    {
     "data": {
      "text/plain": [
       "5.515774296316128"
      ]
     },
     "execution_count": 4,
     "metadata": {},
     "output_type": "execute_result"
    }
   ],
   "source": [
    "def trapezoid(f, h):\n",
    "    return 0.5 * h * (f[0] + 2 * sum(f[1:-1]) + f[-1])\n",
    "\n",
    "def f(x):\n",
    "  return np.exp(x) / (x*(1 - x))**(1/2)\n",
    "\n",
    "def f1(x):\n",
    "  return (np.exp(x)-1) / (x*(1 - x))**(1/2)\n",
    "\n",
    "def f2(x):\n",
    "  return (np.exp(x)-np.exp(1)*x) / (x*(1 - x))**(1/2)\n",
    "\n",
    "def f3(x):\n",
    "  return (np.exp(1)*x) / (x*(1 - x))**(1/2)\n",
    "\n",
    "def integ(npts=10):\n",
    "    \"\"\"Compute the value of the integral above.\n",
    "\n",
    "    Subtract the singularities and use the trapezoid rule.\n",
    "\n",
    "    Parameters\n",
    "    ----------\n",
    "    npts : int\n",
    "        The number of points for the trapezoid rule\n",
    "\n",
    "    Returns\n",
    "    -------\n",
    "    I : float\n",
    "       The computed value of the integral\n",
    "    \"\"\"\n",
    "    x1 = np.linspace(0.01, 0.5, npts//2+1)\n",
    "    fv = f1(x1)\n",
    "    I1 = trapezoid(fv, x1[1] - x1[0])\n",
    "    x2 = np.linspace(0.5, 0.99, npts - npts//2)\n",
    "    fv = f2(x2)\n",
    "    I2 = trapezoid(fv, x2[1] - x2[0])\n",
    "    fv = f3(x1)\n",
    "    I3 = trapezoid(fv, x1[1] - x1[0])\n",
    "    return I1 + np.pi/2 + I2 + np.exp(1)*np.pi/2 - I3\n",
    "    raise NotImplementedError()\n",
    "\n",
    "integ() # точное значение 5.508"
   ]
  },
  {
   "cell_type": "markdown",
   "metadata": {},
   "source": [
    "# №4"
   ]
  },
  {
   "cell_type": "markdown",
   "metadata": {},
   "source": [
    "$x>0$\n",
    "$$\n",
    "J=\\int_{0}^{\\delta_2}|x|^{-\\frac{1}{2}} \\cdot(1-x)^{-\\frac{1}{2}} d x < \\int_{0}^{\\delta_2}|x|^{-\\frac{1}{2}} \\cdot 2 \\cdot d x = 4 \\sqrt{\\delta_2}  \\leq (?) \\epsilon/2\n",
    "$$\n",
    "Тогда выберем\n",
    "$$\n",
    "\\delta_2 = (\\epsilon/8)^2\n",
    "$$\n",
    "Аналогично\n",
    "$$\n",
    "\\delta_1 = -(\\epsilon/8)^2\n",
    "$$"
   ]
  },
  {
   "cell_type": "markdown",
   "metadata": {},
   "source": [
    "# №5"
   ]
  },
  {
   "cell_type": "code",
   "execution_count": 6,
   "metadata": {},
   "outputs": [
    {
     "name": "stdout",
     "output_type": "stream",
     "text": [
      "Симсон\n",
      "k = 10 : 0.09473637293513214 , true: 0.09473129522140869\n",
      "k = 50 : 0.020028996109909332 , true: 0.01912807040656193\n",
      "k = 80 : 0.020260531915410614 , true: 0.01195795759082928\n",
      "k = 100 : -1.3890707321349088e-15 , true: 0.009566904126949584\n"
     ]
    }
   ],
   "source": [
    "def f(x, k):\n",
    "  return np.exp(-x)*np.sin(k*x)\n",
    "\n",
    "def simpson(f, h):\n",
    "    assert (len(f)-1) % 2 == 0\n",
    "    return h/3. * (f[0] + 4 * sum(f[1:-1:2]) + \\\n",
    "                   2 * sum(f[2:-2:2]) + f[-1])\n",
    "\n",
    "def tru(k):\n",
    "  return k/(1+k**2) - (np.exp(-np.pi)*(k*np.cos(k*np.pi)+np.sin(k*np.pi)))/(1+k**2)\n",
    "\n",
    "def int(k):\n",
    "  x = np.linspace(0, np.pi, 101)\n",
    "  fv = f(x, k)\n",
    "  I = simpson(fv, x[1] - x[0])\n",
    "  print('k =', k, ':', I, ', true:', tru(k))\n",
    "\n",
    "print('Симсон')\n",
    "int(10)\n",
    "int(50)\n",
    "int(80)\n",
    "int(100)"
   ]
  },
  {
   "cell_type": "code",
   "execution_count": null,
   "metadata": {},
   "outputs": [],
   "source": []
  }
 ],
 "metadata": {
  "kernelspec": {
   "display_name": "base",
   "language": "python",
   "name": "python3"
  },
  "language_info": {
   "codemirror_mode": {
    "name": "ipython",
    "version": 3
   },
   "file_extension": ".py",
   "mimetype": "text/x-python",
   "name": "python",
   "nbconvert_exporter": "python",
   "pygments_lexer": "ipython3",
   "version": "3.9.12"
  }
 },
 "nbformat": 4,
 "nbformat_minor": 2
}
