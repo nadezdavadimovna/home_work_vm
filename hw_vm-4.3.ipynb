{
 "cells": [
  {
   "cell_type": "markdown",
   "metadata": {},
   "source": [
    "# №1"
   ]
  },
  {
   "cell_type": "code",
   "execution_count": 1,
   "metadata": {},
   "outputs": [
    {
     "name": "stdout",
     "output_type": "stream",
     "text": [
      "Интеграл =  1.2992608720253493\n"
     ]
    }
   ],
   "source": [
    "import numpy as np\n",
    "from math import factorial\n",
    "\n",
    "def ckn(k, n):\n",
    "  if k < 0 or n < k:\n",
    "    return 0\n",
    "  return factorial(n)/(factorial(k)*factorial(n-k))\n",
    "\n",
    "def D(m):\n",
    "  arr = np.ones((m+1, 2*m+1))\n",
    "  for n in range(2*m+1):\n",
    "    arr[0,n] = 1\n",
    "  for j in range(m):\n",
    "    for n in range(2*m+1):\n",
    "      s = 0\n",
    "      for k in range(n+2*j+1):\n",
    "        for l in range(j+1):\n",
    "          s += (-1)**k*arr[l,n]*ckn(k-j+l,n+2*l)*(n+2*j-2*k)**(n+2*j+2)/(2**(n+2*j+2)*factorial(n+2*j+2))\n",
    "      arr[j+1,n] = s\n",
    "  return arr\n",
    "\n",
    "def A(m,k,n):\n",
    "  s = 0\n",
    "  D0 = D(max(m,n))\n",
    "  for l in range(m+1):\n",
    "    s += (-1)**(k-m)*D0[l,n]*ckn(k-m+l,n+2*l)\n",
    "  return s\n",
    "\n",
    "def W(m):\n",
    "  arr = np.ones(2*m+1)\n",
    "  for k in range(2*m+1):\n",
    "    s = 0\n",
    "    for n in range(m+1):\n",
    "      s += A(m-n,k,2*n)/(2**(2*n)*factorial(2*n+1))\n",
    "    arr[k] = s\n",
    "  return arr\n",
    "\n",
    "def func(x):\n",
    "  return np.sin(x/2)/(np.exp(x)-1)\n",
    "\n",
    "J0 = 10\n",
    "m = 6\n",
    "s = 0\n",
    "W0 = W(m)\n",
    "for j in range(J0):\n",
    "  s1 = 0\n",
    "  for k in range(-m, m + 1):\n",
    "    s1 += W0[m-k]*func(-1.000000001 + (2*(j+k)+1)*2/J0)\n",
    "  s += s1\n",
    "print('Интеграл = ', 2*2/J0*s)"
   ]
  },
  {
   "cell_type": "markdown",
   "metadata": {},
   "source": [
    "# №2"
   ]
  },
  {
   "cell_type": "code",
   "execution_count": 5,
   "metadata": {},
   "outputs": [
    {
     "name": "stdout",
     "output_type": "stream",
     "text": [
      "Вычисленная  gamma_E: 0.5772156649007986\n",
      "gamma_E: 0.5772156649015328...\n"
     ]
    }
   ],
   "source": [
    "import math\n",
    "\n",
    "def compute_gamma_euler():\n",
    "    n = 10**6\n",
    "    harmonic = 0.0\n",
    "    for k in range(1, n+1):\n",
    "        harmonic += 1.0/k\n",
    "    ln_n = math.log(n)\n",
    "    correction = 1/(2*n) - 1/(12*n**2) + 1/(120*n**4)\n",
    "    gamma = harmonic - ln_n - correction\n",
    "    return gamma\n",
    "\n",
    "gamma = compute_gamma_euler()\n",
    "print(f\"Вычисленная  gamma_E: {gamma:.16f}\")\n",
    "print(f\"gamma_E: 0.5772156649015328...\")\n"
   ]
  },
  {
   "cell_type": "markdown",
   "metadata": {},
   "source": [
    "# №3"
   ]
  },
  {
   "cell_type": "code",
   "execution_count": 4,
   "metadata": {},
   "outputs": [
    {
     "name": "stdout",
     "output_type": "stream",
     "text": [
      "Сумма= 2.26672849\n"
     ]
    }
   ],
   "source": [
    "import numpy as np\n",
    "\n",
    "def compute_series():\n",
    "    S1 = (np.pi**2)/6 - np.pi/6 + 1\n",
    "    S2 = 0.0\n",
    "    for n in range(1, 21):\n",
    "        numerator = np.cos(2 * n)\n",
    "        denominator = n**2*(n**4 + n**2 + 1)\n",
    "        S2 += numerator / denominator\n",
    "    \n",
    "    total = S1 - S2\n",
    "    return total\n",
    "\n",
    "result = compute_series()\n",
    "print(f\"Сумма= {result:.8f}\")"
   ]
  },
  {
   "cell_type": "markdown",
   "metadata": {},
   "source": [
    "# №4"
   ]
  },
  {
   "cell_type": "markdown",
   "metadata": {},
   "source": [
    "ряд Тейлора:\n",
    "$$\n",
    "\\cos{\\sqrt{-x}} \\approx 1 + \\frac{x}{2} + o(x),  x < 0 \\\\\n",
    "$$\n",
    "$$\n",
    "\\operatorname{ch}{\\sqrt{x}} \\approx 1 + \\frac{x}{2} + o(x),  x > 0\n",
    "$$\n",
    "\n",
    "$$\\lim _{x \\rightarrow 0} \\frac{y(x)-1}{x} = \\frac{1}{2}$$"
   ]
  }
 ],
 "metadata": {
  "kernelspec": {
   "display_name": "base",
   "language": "python",
   "name": "python3"
  },
  "language_info": {
   "codemirror_mode": {
    "name": "ipython",
    "version": 3
   },
   "file_extension": ".py",
   "mimetype": "text/x-python",
   "name": "python",
   "nbconvert_exporter": "python",
   "pygments_lexer": "ipython3",
   "version": "3.9.12"
  }
 },
 "nbformat": 4,
 "nbformat_minor": 2
}
