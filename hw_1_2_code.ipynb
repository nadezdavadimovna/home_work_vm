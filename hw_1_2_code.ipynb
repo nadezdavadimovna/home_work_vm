{
 "cells": [
  {
   "cell_type": "markdown",
   "id": "f91e7445",
   "metadata": {},
   "source": [
    "\n",
    "\n",
    "__Задание 1. Генератор случайных матриц.__"
   ]
  },
  {
   "cell_type": "code",
   "execution_count": 2,
   "id": "7260b786",
   "metadata": {},
   "outputs": [],
   "source": [
    "import numpy as np\n",
    "\n",
    "def matrix_generate(rows, columns, type_=\"full\", eps=0):\n",
    "    \"\"\"\n",
    "    matrix_generate(rows, columns, type_=\"full\", eps=0)\n",
    "\n",
    "    Создаёт случайную матрицу выбранного типа.\n",
    "\n",
    "    Если матрицу нужных размеров создать нельзя, выдает\n",
    "    строку f\"Error with type {type_} and shape ({rows},{columns})\".\n",
    "\n",
    "    Parameters\n",
    "    ----------\n",
    "    rows : int\n",
    "        Количество строк в создаваемой матрице.\n",
    "    columns : int\n",
    "        Количество столбцов в создаваемой матрице.\n",
    "    type_ : str, optional\n",
    "        Тип создаваемой матрицы: \"full\", \"diagonal\", \"upper_triangular\", \"lower_triangular\", \"symmetric\",\n",
    "        \"singular\" и т.д.\n",
    "    eps: float, optional\n",
    "        Дополнительное число, использующееся при генерации для некоторых типов матриц.\n",
    "\n",
    "    Returns\n",
    "    -------\n",
    "    out : ndarray or str\n",
    "        Возвращает матрицу нужного типа либо сообщение об ошибке.\n",
    "\n",
    "    Notes\n",
    "    -----\n",
    "    Поддерживаемые типы матриц:\n",
    "        \"full\", \"diagonal\", \"upper_triangular\", \"lower_triangular\",\n",
    "        \"symmetric\", \"singular\", \"step\", \"perturbation\", ...\n",
    "    \"\"\"\n",
    "\n",
    "    if type_ == \"full\":\n",
    "        return np.random.random(size=(rows, columns))\n",
    "\n",
    "    elif type_ == \"diagonal\":\n",
    "        if rows != columns:\n",
    "            return f\"Error with type {type_} and shape ({rows},{columns})\"\n",
    "        else:\n",
    "            return np.diag(np.random.rand(rows))\n",
    "\n",
    "    elif type_ == \"upper_triangular\":\n",
    "        return np.triu(np.random.random(size=(rows, columns)))\n",
    "\n",
    "    elif type_ == \"lower_triangular\":\n",
    "        return np.tril(np.random.random(size=(rows, columns)))\n",
    "\n",
    "    elif type_ == \"symmetric\":\n",
    "        if rows != columns:\n",
    "            return f\"Error with type {type_} and shape ({rows},{columns})\"\n",
    "        else:\n",
    "            A = np.random.random(size=(rows, columns))\n",
    "            return (A + A.T) / 2\n",
    "\n",
    "    elif type_ == \"singular\":\n",
    "        if columns < 2:\n",
    "            return f\"Error with type {type_} and shape ({rows},{columns})\"\n",
    "        else:\n",
    "            A = np.random.random(size=(rows, columns))\n",
    "            A[:, -1] = A[:, 0]\n",
    "            return A\n",
    "\n",
    "    elif type_ == \"step\":\n",
    "        if columns > rows:\n",
    "            return f\"Error with type {type_} and shape ({rows},{columns})\"\n",
    "        A = np.triu(np.random.random((rows, rows)), 1) + np.eye(rows)\n",
    "        indices = list(range(rows))\n",
    "        np.random.shuffle(indices)\n",
    "        A = A[indices[:columns], :]\n",
    "        return A\n",
    "\n",
    "    elif type_ == \"perturbation\":\n",
    "        return np.random.uniform(-eps, eps, size=(rows, columns))\n",
    "\n",
    "    else:\n",
    "        return f\"Error: Unknown matrix type '{type_}'\"\n"
   ]
  },
  {
   "cell_type": "code",
   "execution_count": 14,
   "id": "3a90a411",
   "metadata": {},
   "outputs": [
    {
     "data": {
      "text/plain": [
       "array([[0.57434916, 0.93467634, 0.79490181]])"
      ]
     },
     "execution_count": 14,
     "metadata": {},
     "output_type": "execute_result"
    }
   ],
   "source": [
    "matrix_generate(1, 3)"
   ]
  },
  {
   "cell_type": "code",
   "execution_count": 15,
   "id": "54fbd85b",
   "metadata": {},
   "outputs": [
    {
     "data": {
      "text/plain": [
       "array([[0.5939277 , 0.16261597],\n",
       "       [0.        , 0.80389439]])"
      ]
     },
     "execution_count": 15,
     "metadata": {},
     "output_type": "execute_result"
    }
   ],
   "source": [
    "matrix_generate(2, 2, type_ = \"upper_triangular\")"
   ]
  },
  {
   "cell_type": "code",
   "execution_count": 16,
   "id": "c64c4372",
   "metadata": {},
   "outputs": [
    {
     "data": {
      "text/plain": [
       "array([[0.73985933, 0.45117595, 0.60465216],\n",
       "       [0.        , 0.74488641, 0.10399908],\n",
       "       [0.        , 0.        , 0.67153523],\n",
       "       [0.        , 0.        , 0.        ],\n",
       "       [0.        , 0.        , 0.        ]])"
      ]
     },
     "execution_count": 16,
     "metadata": {},
     "output_type": "execute_result"
    }
   ],
   "source": [
    "matrix_generate(5, 3, type_ = \"upper_triangular\")"
   ]
  },
  {
   "cell_type": "code",
   "execution_count": 17,
   "id": "405b83fe",
   "metadata": {},
   "outputs": [
    {
     "data": {
      "text/plain": [
       "array([[0.89613194, 0.46916328, 0.45973162, 0.44287298],\n",
       "       [0.46916328, 0.61406597, 0.33847741, 0.47390672],\n",
       "       [0.45973162, 0.33847741, 0.29893163, 0.33401612],\n",
       "       [0.44287298, 0.47390672, 0.33401612, 0.88173356]])"
      ]
     },
     "execution_count": 17,
     "metadata": {},
     "output_type": "execute_result"
    }
   ],
   "source": [
    "matrix_generate(4, 4, type_ = \"symmetric\")"
   ]
  },
  {
   "cell_type": "code",
   "execution_count": 18,
   "id": "52fcccca",
   "metadata": {},
   "outputs": [
    {
     "data": {
      "text/plain": [
       "array([[0.        , 1.        , 0.35620364, 0.45788038],\n",
       "       [0.        , 0.        , 1.        , 0.70898796],\n",
       "       [0.        , 0.        , 0.        , 1.        ]])"
      ]
     },
     "execution_count": 18,
     "metadata": {},
     "output_type": "execute_result"
    }
   ],
   "source": [
    "matrix_generate(4, 3, type_ = \"step\")"
   ]
  },
  {
   "cell_type": "code",
   "execution_count": 19,
   "id": "19b85093",
   "metadata": {},
   "outputs": [
    {
     "data": {
      "text/plain": [
       "'Error with type symmetric and shape (4,1)'"
      ]
     },
     "execution_count": 19,
     "metadata": {},
     "output_type": "execute_result"
    }
   ],
   "source": [
    "matrix_generate(4, 1, type_ = \"symmetric\")"
   ]
  },
  {
   "cell_type": "markdown",
   "id": "87ca7b92",
   "metadata": {},
   "source": [
    "__Задание 2. Вычисление матричных норм и числа обусловленности.__"
   ]
  },
  {
   "cell_type": "code",
   "execution_count": 9,
   "id": "444c699f",
   "metadata": {},
   "outputs": [],
   "source": [
    "from scipy.linalg import eigvals\n",
    "import numpy as np\n",
    "\n",
    "def l1_norm(x):\n",
    "    return np.sum(np.abs(x))\n",
    "\n",
    "def l2_norm(x):\n",
    "    return np.sqrt(np.sum(x**2))\n",
    "\n",
    "def max_norm(x):\n",
    "    return np.max(np.abs(x))\n",
    "\n",
    "def l1_norm_matrix(A):\n",
    "    return np.max(np.sum(np.abs(A), axis=0))\n",
    "\n",
    "def l2_norm_matrix(A):\n",
    "    eigenvalues = eigvals(A @ A.T)\n",
    "    return np.sqrt(np.max(eigenvalues))\n",
    "\n",
    "def max_norm_matrix(A):\n",
    "    return np.max(np.sum(np.abs(A), axis=1))\n",
    "\n",
    "def cond_num(A, norm=\"L1\"):\n",
    "    A_inv = np.linalg.inv(A)\n",
    "    if norm == \"L1\":\n",
    "        return l1_norm_matrix(A) * l1_norm_matrix(A_inv)\n",
    "    elif norm == \"L2\":\n",
    "        return l2_norm_matrix(A) * l2_norm_matrix(A_inv)\n",
    "    elif norm == \"inf\":\n",
    "        return max_norm_matrix(A) * max_norm_matrix(A_inv)\n"
   ]
  },
  {
   "cell_type": "code",
   "execution_count": null,
   "id": "9bd15410",
   "metadata": {},
   "outputs": [],
   "source": []
  }
 ],
 "metadata": {
  "kernelspec": {
   "display_name": "Python 3",
   "language": "python",
   "name": "python3"
  },
  "language_info": {
   "codemirror_mode": {
    "name": "ipython",
    "version": 3
   },
   "file_extension": ".py",
   "mimetype": "text/x-python",
   "name": "python",
   "nbconvert_exporter": "python",
   "pygments_lexer": "ipython3",
   "version": "3.9.12"
  }
 },
 "nbformat": 4,
 "nbformat_minor": 5
}
